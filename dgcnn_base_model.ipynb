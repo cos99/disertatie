{
 "cells": [
  {
   "cell_type": "markdown",
   "metadata": {},
   "source": [
    "### 1. Dynamic Graph CNN base model."
   ]
  },
  {
   "cell_type": "markdown",
   "metadata": {},
   "source": [
    "##### Imports"
   ]
  },
  {
   "cell_type": "code",
   "execution_count": 2,
   "metadata": {},
   "outputs": [],
   "source": [
    "import os\n",
    "import sys\n",
    "import copy\n",
    "import math\n",
    "import numpy as np\n",
    "import torch\n",
    "import torch.nn as nn\n",
    "import torch.nn.init as init\n",
    "import torch.nn.functional as F"
   ]
  },
  {
   "cell_type": "markdown",
   "metadata": {},
   "source": [
    "##### Model Implementation for Semantic Segmentation\n",
    "Starting with <strong>PointNet</strong> implementation, as it will be our backbone, on top of which we will add the EdgeConv"
   ]
  },
  {
   "cell_type": "code",
   "execution_count": null,
   "metadata": {},
   "outputs": [],
   "source": [
    "class PointNet(nn.Module):\n",
    "    def __init__(self, args, out_channels=40):\n",
    "        super(PointNet, self).__init__()\n",
    "        self.conv_1 = nn.Conv1d(3, 64, kernel_size=1, bias=False)\n",
    "        self.conv_2 = nn.Conv1d(64, 64, kernel_size=1, bias=False)\n",
    "        self.conv_3 = nn.Conv1d(64, 64, kernel_size=1, bias=False)\n",
    "        self.conv_4 = nn.Conv1d(64, 128, kernel_size=1, bias=False)\n",
    "        self.conv_5 = nn.Conv1d(128, args.embedded_dims, kernel_size=1, bias=False)\n",
    "        self.batch_norm_1 = nn.BatchNorm1d(64)\n",
    "        self.batch_norm_2 = nn.BatchNorm1d(64)\n",
    "        self.batch_norm_3 = nn.BatchNorm1d(64)\n",
    "        self.batch_norm_4 = nn.BatchNorm1d(128)\n",
    "        self.batch_norm_5 = nn.BatchNorm1d(args.embedded_dims)\n",
    "        self.fc_1 = nn.Linear(args.embedded_dims, 512, bias=False)\n",
    "        self.batch_norm_6 = nn.BatchNorm1d(512)\n",
    "        self.dropout = nn.Dropout()\n",
    "        self.fc_2 = nn.Linear(512, out_channels)\n",
    "    \n",
    "    def forward(self, x):\n",
    "        x = F.relu(self.batch_norm_1(self.conv_1(x)))\n",
    "        x = F.relu(self.batch_norm_2(self.conv_2(x)))\n",
    "        x = F.relu(self.batch_norm_3(self.conv_3(x)))\n",
    "        x = F.relu(self.batch_norm_4(self.conv_4(x)))\n",
    "        x = F.relu(self.batch_norm_5(self.conv_5(x)))\n",
    "        x = F.adaptive_max_pool1d(x, 1).squeeze()\n",
    "        x = F.relu(self.batch_norm_6(self.fc_1(x)))\n",
    "        x = self.dropout(x)\n",
    "        x = self.fc_2(x)\n",
    "        return x"
   ]
  }
 ],
 "metadata": {
  "kernelspec": {
   "display_name": "disertatie-venv",
   "language": "python",
   "name": "python3"
  },
  "language_info": {
   "codemirror_mode": {
    "name": "ipython",
    "version": 3
   },
   "file_extension": ".py",
   "mimetype": "text/x-python",
   "name": "python",
   "nbconvert_exporter": "python",
   "pygments_lexer": "ipython3",
   "version": "3.9.4"
  }
 },
 "nbformat": 4,
 "nbformat_minor": 2
}
