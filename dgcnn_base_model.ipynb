{
 "cells": [
  {
   "cell_type": "markdown",
   "metadata": {},
   "source": [
    "### 1. Dynamic Graph CNN base model."
   ]
  },
  {
   "cell_type": "markdown",
   "metadata": {},
   "source": [
    "##### Imports"
   ]
  },
  {
   "cell_type": "code",
   "execution_count": 6,
   "metadata": {},
   "outputs": [],
   "source": [
    "import os\n",
    "import sys\n",
    "import copy\n",
    "import math\n",
    "import numpy as np\n",
    "import torch\n",
    "import torch.nn as nn\n",
    "import torch.nn.init as init\n",
    "import torch.nn.functional as F"
   ]
  },
  {
   "cell_type": "markdown",
   "metadata": {},
   "source": [
    "##### Model Implementation for Semantic Segmentation"
   ]
  },
  {
   "cell_type": "markdown",
   "metadata": {},
   "source": [
    "Utility functions, such as loss etc."
   ]
  },
  {
   "cell_type": "code",
   "execution_count": 7,
   "metadata": {},
   "outputs": [],
   "source": [
    "def knn(x, k):\n",
    "    inner_product = -2*torch.matmul(x.transpose(2, 1), x)\n",
    "    squared_norms = torch.sum(x**2, dim=1, keepdim=True)\n",
    "    pairwise_distance = -squared_norms - inner_product - squared_norms.transpose(2, 1)\n",
    "\n",
    "    # (batch_size, num_points, k)\n",
    "    idx = pairwise_distance.topk(k=k, dim=-1)[1]\n",
    "    return idx\n",
    "\n",
    "\n",
    "def get_graph_feature(x, k=20, idx=None, dim9=False):\n",
    "    batch_size = x.size(0)\n",
    "    num_points = x.size(2)\n",
    "    x = x.view(batch_size, -1, num_points)\n",
    "    if idx is None:\n",
    "        if dim9 == False:\n",
    "            idx = knn(x, k=k)   # (batch_size, num_points, k)\n",
    "        else:\n",
    "            idx = knn(x[:, 6:], k=k)\n",
    "    device = torch.device('cuda')\n",
    "\n",
    "    idx_base = torch.arange(\n",
    "        0, batch_size, device=device).view(-1, 1, 1)*num_points\n",
    "\n",
    "    idx = idx + idx_base\n",
    "\n",
    "    idx = idx.view(-1)\n",
    "\n",
    "    _, num_dims, _ = x.size()\n",
    "\n",
    "    # (batch_size, num_points, num_dims)  -> (batch_size*num_points, num_dims) #   batch_size * num_points * k + range(0, batch_size*num_points)\n",
    "    x = x.transpose(2, 1).contiguous()\n",
    "    feature = x.view(batch_size*num_points, -1)[idx, :]\n",
    "    feature = feature.view(batch_size, num_points, k, num_dims)\n",
    "    x = x.view(batch_size, num_points, 1, num_dims).repeat(1, 1, k, 1)\n",
    "\n",
    "    feature = torch.cat((feature-x, x), dim=3).permute(0, 3, 1, 2).contiguous()\n",
    "\n",
    "    return feature"
   ]
  },
  {
   "cell_type": "markdown",
   "metadata": {},
   "source": [
    "Starting with <strong>PointNet</strong> implementation, as it will be our backbone, on top of which we will add the EdgeConv"
   ]
  },
  {
   "cell_type": "code",
   "execution_count": 8,
   "metadata": {},
   "outputs": [],
   "source": [
    "class PointNet(nn.Module):\n",
    "    def __init__(self, args, out_channels=40):\n",
    "        super(PointNet, self).__init__()\n",
    "        self.conv_1 = nn.Conv1d(3, 64, kernel_size=1, bias=False)\n",
    "        self.conv_2 = nn.Conv1d(64, 64, kernel_size=1, bias=False)\n",
    "        self.conv_3 = nn.Conv1d(64, 64, kernel_size=1, bias=False)\n",
    "        self.conv_4 = nn.Conv1d(64, 128, kernel_size=1, bias=False)\n",
    "        self.conv_5 = nn.Conv1d(128, args.embedded_dims, kernel_size=1, bias=False)\n",
    "        self.batch_norm_1 = nn.BatchNorm1d(64)\n",
    "        self.batch_norm_2 = nn.BatchNorm1d(64)\n",
    "        self.batch_norm_3 = nn.BatchNorm1d(64)\n",
    "        self.batch_norm_4 = nn.BatchNorm1d(128)\n",
    "        self.batch_norm_5 = nn.BatchNorm1d(args.embedded_dims)\n",
    "        self.fc_1 = nn.Linear(args.embedded_dims, 512, bias=False)\n",
    "        self.batch_norm_6 = nn.BatchNorm1d(512)\n",
    "        self.dropout = nn.Dropout()\n",
    "        self.fc_2 = nn.Linear(512, out_channels)\n",
    "    \n",
    "    def forward(self, x):\n",
    "        x = F.relu(self.batch_norm_1(self.conv_1(x)))\n",
    "        x = F.relu(self.batch_norm_2(self.conv_2(x)))\n",
    "        x = F.relu(self.batch_norm_3(self.conv_3(x)))\n",
    "        x = F.relu(self.batch_norm_4(self.conv_4(x)))\n",
    "        x = F.relu(self.batch_norm_5(self.conv_5(x)))\n",
    "        x = F.adaptive_max_pool1d(x, 1).squeeze()\n",
    "        x = F.relu(self.batch_norm_6(self.fc_1(x)))\n",
    "        x = self.dropout(x)\n",
    "        x = self.fc_2(x)\n",
    "        return x"
   ]
  },
  {
   "cell_type": "markdown",
   "metadata": {},
   "source": [
    "Next, we implement the <strong>EdgeConv</strong> network, specifically tailored for semantic segmentation."
   ]
  },
  {
   "cell_type": "code",
   "execution_count": 9,
   "metadata": {},
   "outputs": [],
   "source": [
    "class DGCNN(nn.Module):\n",
    "    def __init__(self, args, num_clases=13):\n",
    "        super(DGCNN, self).__init__()\n",
    "        self.args = args\n",
    "        self.k = args.k\n",
    "        self.batch_norm_1 = nn.BatchNorm2d(64)\n",
    "        self.batch_norm_2 = nn.BatchNorm2d(64)\n",
    "        self.batch_norm_3 = nn.BatchNorm2d(64)\n",
    "        self.batch_norm_4 = nn.BatchNorm2d(64)\n",
    "        self.batch_norm_5 = nn.BatchNorm2d(64)\n",
    "        self.batch_norm_6 = nn.BatchNorm1d(args.embedded_dims)\n",
    "        self.batch_norm_7 = nn.BatchNorm1d(512)\n",
    "        self.batch_norm_8 = nn.BatchNorm1d(256)\n",
    "\n",
    "        self.conv_1 = nn.Sequential(nn.Conv2d(18, 64, kernel_size=1, bias=False),\n",
    "                                    self.batch_norm_1,\n",
    "                                    nn.LeakyReLU(negative_slope=0.2))\n",
    "        self.conv_2 = nn.Sequential(nn.Conv2d(64, 64, kernel_size=1, bias=False),\n",
    "                                    self.batch_norm_2,\n",
    "                                    nn.LeakyReLU(negative_slope=0.2))\n",
    "        self.conv_3 = nn.Sequential(nn.Conv2d(64*2, 64, kernel_size=1, bias=False),\n",
    "                                    self.batch_norm_3,\n",
    "                                    nn.LeakyReLU(negative_slope=0.2))\n",
    "        self.conv_4 = nn.Sequential(nn.Conv2d(64, 64, kernel_size=1, bias=False),\n",
    "                                    self.batch_norm_4,\n",
    "                                    nn.LeakyReLU(negative_slope=0.2))\n",
    "        self.conv_5 = nn.Sequential(nn.Conv2d(64*2, 64, kernel_size=1, bias=False),\n",
    "                                    self.batch_norm_5,\n",
    "                                    nn.LeakyReLU(negative_slope=0.2))\n",
    "        self.conv_6 = nn.Sequential(nn.Conv1d(192, args.embedded_dims, kernel_size=1, bias=False),\n",
    "                                    self.batch_norm_6,\n",
    "                                    nn.LeakyReLU(negative_slope=0.2))\n",
    "        self.conv_7 = nn.Sequential(nn.Conv1d(1216, 512, kernel_size=1, bias=False),\n",
    "                                    self.batch_norm_7,\n",
    "                                    nn.LeakyReLU(negative_slope=0.2))\n",
    "        self.conv_8 = nn.Sequential(nn.Conv1d(512, 256, kernel_size=1, bias=False),\n",
    "                                    self.batch_norm_8,\n",
    "                                    nn.LeakyReLU(negative_slope=0.2))\n",
    "        self.dropout = nn.Dropout(p=args.dropout)\n",
    "        self.conv_9 = nn.Conv1d(256, num_clases, kernel_size=1, bias=False)\n",
    "        \n",
    "    def forward(self, x):\n",
    "        batch_size = x.size(0)\n",
    "        num_points = x.size(2)\n",
    "\n",
    "        x = get_graph_feature(x, k=self.k, dim9=True)   # (batch_size, 9, num_points) -> (batch_size, 9*2, num_points, k)\n",
    "        x = self.conv_1(x)                              # (batch_size, 9*2, num_points, k) -> (batch_size, 64, num_points, k)\n",
    "        x = self.conv_2(x)                              # (batch_size, 64, num_points, k) -> (batch_size, 64, num_points, k)\n",
    "        x1 = x.max(dim=-1, keepdim=False)[0]            # (batch_size, 64, num_points, k) -> (batch_size, 64, num_points)\n",
    "\n",
    "        x = get_graph_feature(x1, k=self.k)             # (batch_size, 64, num_points) -> (batch_size, 64*2, num_points, k)\n",
    "        x = self.conv_3(x)                              # (batch_size, 64*2, num_points, k) -> (batch_size, 64, num_points, k)\n",
    "        x = self.conv_4(x)                              # (batch_size, 64, num_points, k) -> (batch_size, 64, num_points, k)\n",
    "        x2 = x.max(dim=-1, keepdim=False)[0]            # (batch_size, 64, num_points, k) -> (batch_size, 64, num_points)\n",
    "\n",
    "        x = get_graph_feature(x2, k=self.k)             # (batch_size, 64, num_points) -> (batch_size, 64*2, num_points, k)\n",
    "        x = self.conv_5(x)                              # (batch_size, 64*2, num_points, k) -> (batch_size, 64, num_points, k)\n",
    "        x3 = x.max(dim=-1, keepdim=False)[0]            # (batch_size, 64, num_points, k) -> (batch_size, 64, num_points)\n",
    "\n",
    "        x = torch.cat((x1, x2, x3), dim=1)              # (batch_size, 64*3, num_points)\n",
    "\n",
    "        x = self.conv_6(x)                              # (batch_size, 64*3, num_points) -> (batch_size, emb_dims, num_points)\n",
    "        x = x.max(dim=-1, keepdim=True)[0]              # (batch_size, emb_dims, num_points) -> (batch_size, emb_dims, 1)\n",
    "\n",
    "        x = x.repeat(1, 1, num_points)                  # (batch_size, 1024, num_points)\n",
    "        x = torch.cat((x, x1, x2, x3), dim=1)           # (batch_size, 1024+64*3, num_points)\n",
    "\n",
    "        x = self.conv_7(x)                              # (batch_size, 1024+64*3, num_points) -> (batch_size, 512, num_points)\n",
    "        x = self.conv_8(x)                              # (batch_size, 512, num_points) -> (batch_size, 256, num_points)\n",
    "        x = self.dropout(x)\n",
    "        x = self.conv_9(x)                              # (batch_size, 256, num_points) -> (batch_size, 13, num_points)\n",
    "        \n",
    "        return x"
   ]
  }
 ],
 "metadata": {
  "kernelspec": {
   "display_name": "disertatie-venv",
   "language": "python",
   "name": "python3"
  },
  "language_info": {
   "codemirror_mode": {
    "name": "ipython",
    "version": 3
   },
   "file_extension": ".py",
   "mimetype": "text/x-python",
   "name": "python",
   "nbconvert_exporter": "python",
   "pygments_lexer": "ipython3",
   "version": "3.9.4"
  }
 },
 "nbformat": 4,
 "nbformat_minor": 2
}
